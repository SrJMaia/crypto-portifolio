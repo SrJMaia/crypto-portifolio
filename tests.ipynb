{
 "cells": [
  {
   "cell_type": "code",
   "execution_count": 1,
   "metadata": {},
   "outputs": [],
   "source": [
    "import matplotlib.pyplot as plt\n",
    "import numpy as np\n",
    "import pandas as pd\n",
    "from prettytable import PrettyTable\n",
    "from colorama import Fore\n",
    "from wallet.wallet_functions import read_transactions_to_wallet"
   ]
  },
  {
   "cell_type": "code",
   "execution_count": 17,
   "metadata": {},
   "outputs": [],
   "source": [
    "wallet, wallet_information = read_transactions_to_wallet()\n",
    "dt = pd.DataFrame(data=wallet)"
   ]
  },
  {
   "cell_type": "code",
   "execution_count": 9,
   "metadata": {},
   "outputs": [
    {
     "name": "stdout",
     "output_type": "stream",
     "text": [
      "+------------------------------------+\n",
      "|           Menu                     |\n",
      "+-------------------+----------------+\n",
      "|  Action           | Input          |\n",
      "+-------------------+----------------+\n",
      "| Show All          |   0            |\n",
      "|  Wallet           |  5905          |\n",
      "+-------------------+----------------+\n"
     ]
    }
   ],
   "source": [
    "from prettytable import PrettyTable\n",
    "y = PrettyTable()\n",
    "y.field_names = [\"Action\", \"Input\"]\n",
    "y.title = \"Menu\"\n",
    "y.add_row([\"Show All\", 0])\n",
    "y.add_row([\"Wallet\", 5905])\n",
    "# y.add_row([\"Darwin\", 112])\n",
    "# y.add_row([\"Hobart\", 1357])\n",
    "# y.add_row([\"Sydney\", 2058])\n",
    "# y.add_row([\"Melbourne\", 1566])\n",
    "# y.add_row([\"Perth\", 5386])\n",
    "y.right_padding_width = 10\n",
    "y.align = \"c\"\n",
    "print(y)"
   ]
  },
  {
   "cell_type": "code",
   "execution_count": 12,
   "metadata": {},
   "outputs": [
    {
     "data": {
      "text/plain": [
       "False"
      ]
     },
     "execution_count": 12,
     "metadata": {},
     "output_type": "execute_result"
    }
   ],
   "source": [
    "a = \" \"\n",
    "a.isalpha()"
   ]
  },
  {
   "cell_type": "code",
   "execution_count": null,
   "metadata": {},
   "outputs": [],
   "source": []
  }
 ],
 "metadata": {
  "interpreter": {
   "hash": "916dbcbb3f70747c44a77c7bcd40155683ae19c65e1c03b4aa3499c5328201f1"
  },
  "kernelspec": {
   "display_name": "Python 3.8.10 64-bit",
   "language": "python",
   "name": "python3"
  },
  "language_info": {
   "codemirror_mode": {
    "name": "ipython",
    "version": 3
   },
   "file_extension": ".py",
   "mimetype": "text/x-python",
   "name": "python",
   "nbconvert_exporter": "python",
   "pygments_lexer": "ipython3",
   "version": "3.8.10"
  },
  "orig_nbformat": 4
 },
 "nbformat": 4,
 "nbformat_minor": 2
}
